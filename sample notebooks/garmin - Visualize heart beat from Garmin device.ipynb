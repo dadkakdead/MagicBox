{
 "cells": [
  {
   "cell_type": "code",
   "execution_count": 1,
   "metadata": {
    "collapsed": false
   },
   "outputs": [
    {
     "name": "stderr",
     "output_type": "stream",
     "text": [
      "/home/devrazdev/.virtualenvs/mysite-virtualenv/lib/python3.6/importlib/_bootstrap.py:205: RuntimeWarning: numpy.dtype size changed, may indicate binary incompatibility. Expected 96, got 88\n",
      "  return f(*args, **kwds)\n",
      "/home/devrazdev/.virtualenvs/mysite-virtualenv/lib/python3.6/importlib/_bootstrap.py:205: RuntimeWarning: numpy.dtype size changed, may indicate binary incompatibility. Expected 96, got 88\n",
      "  return f(*args, **kwds)\n"
     ]
    }
   ],
   "source": [
    "import os\n",
    "from os import listdir\n",
    "from os.path import isfile, join\n",
    "\n",
    "import sys\n",
    "\n",
    "from openpyxl import load_workbook #only in Jupyter\n",
    "\n",
    "import pandas as pd\n",
    "import numpy as np\n",
    "import re\n",
    "\n",
    "import time\n",
    "import datetime\n",
    "import pytz\n",
    "\n",
    "import string\n",
    "import random\n",
    "import math\n",
    "import matplotlib.pyplot as plt\n",
    "\n",
    "import zipfile\n",
    "import io\n",
    "\n",
    "#for storing files properly\n",
    "from django.conf import settings\n",
    "\n",
    "def get_list_of_files(zf):\n",
    "    fileNames = []\n",
    "    for i in range(0,len(zf.infolist())):\n",
    "        if not (\"__\" in zf.infolist()[i].filename):\n",
    "            fileNames.append(zf.infolist()[i].filename)\n",
    "    return fileNames\n",
    "\n",
    "def write_report(df, sheetName):\n",
    "    # make random file name\n",
    "    fileName = ''.join(random.choice(string.ascii_uppercase + string.digits) for _ in range(10)) + \".xlsx\"\n",
    "    \n",
    "    try:\n",
    "        filePath =  settings.MEDIA_ROOT + fileName\n",
    "    except:\n",
    "        filePath =  \"/home/devrazdev/\" + fileName\n",
    "    \n",
    "    # write the output to excel\n",
    "    writer = pd.ExcelWriter(filePath, engine='openpyxl')\n",
    "    df.to_excel(writer, sheetName, index=False)\n",
    "\n",
    "    workbook  = writer.book\n",
    "    worksheet = writer.sheets[sheetName]\n",
    "\n",
    "    # automatically scale the columns\n",
    "    for columnCells in worksheet.columns:\n",
    "        length = 0\n",
    "        for cell in columnCells:\n",
    "            cellValueType = type(cell.value).__name__\n",
    "\n",
    "            #defaults\n",
    "            cellText = str(cell.value)\n",
    "            russianWordsCounter = 0\n",
    "\n",
    "            if cellValueType == 'unicode':\n",
    "                cellText = cell.value.encode('utf-8')\n",
    "                russianWordsCounter = re.search('[а-яА-Я]', cellText)\n",
    "            else:\n",
    "                if cellValueType == 'date':\n",
    "                    cellText = \"18/11/1993\"\n",
    "\n",
    "            if russianWordsCounter > 0:\n",
    "                length = max(length, len(cellText)/2)\n",
    "            else:\n",
    "                length = max(length, len(cellText))\n",
    "            worksheet.column_dimensions[columnCells[0].column].width = length\n",
    "\n",
    "    writer.save()\n",
    "    return filePath"
   ]
  },
  {
   "cell_type": "code",
   "execution_count": 4,
   "metadata": {
    "collapsed": true
   },
   "outputs": [],
   "source": [
    "def convert_time(t):\n",
    "    t_naive = datetime.datetime.fromtimestamp(t)\n",
    "    timezone = pytz.timezone(\"UTC\")\n",
    "    t_aware = timezone.localize(t_naive)\n",
    "\n",
    "    return t_aware\n",
    "\n",
    "def print_time(t):\n",
    "    t_aware = convert_time(t)\n",
    "    return t_aware.astimezone(pytz.timezone('Etc/GMT+7')).strftime(\"%H:%M:%S\")\n",
    "\n",
    "def convert_to_binary_string(n):\n",
    "    return ''.join(str(1 & int(n) >> i) for i in range(0, 32)[::-1])\n",
    "\n",
    "def merge_timestamps(t, t_16):\n",
    "    unixEpoch = datetime.datetime(1970, 1, 1, 0, 0, 0, tzinfo=pytz.utc)\n",
    "    javaEpoch = datetime.datetime(1989, 12, 31, 0, 0, 0, tzinfo=pytz.utc)\n",
    "\n",
    "    epochDelta = (javaEpoch - unixEpoch).total_seconds()\n",
    "\n",
    "    return int(convert_to_binary_string(t)[:16] + convert_to_binary_string(t_16)[16:], 2) + epochDelta\n",
    "\n",
    "def process_data_csv(df_in):\n",
    "    df_hr = df_in[np.isfinite(df_in['monitoring.heart_rate[bpm]'])][[\"monitoring.timestamp[s]\", \"monitoring.timestamp_16[s]\", \"monitoring.heart_rate[bpm]\"]].reset_index(drop=True)\n",
    "\n",
    "    df_hr[\"timestamp\"] = list(map(merge_timestamps, df_hr[\"monitoring.timestamp[s]\"], df_hr[\"monitoring.timestamp_16[s]\"]))\n",
    "\n",
    "    df_hr[\"time\"] = list(map(print_time, df_hr[\"timestamp\"]))\n",
    "\n",
    "    df_hr[\"heart_rate[bpm]\"] = df_hr['monitoring.heart_rate[bpm]']\n",
    "\n",
    "    return df_hr\n",
    "\n",
    "def add_minutes(df_in):\n",
    "    df_out = df_in\n",
    "    df_out[\"minutes\"] = 0\n",
    "\n",
    "    for i in range(1,len(df_out)):\n",
    "        df_out.at[i,\"minutes\"] = math.ceil((convert_time(df_in.at[i,\"timestamp\"]) - convert_time(df_in.at[0,\"timestamp\"])).total_seconds() / 60)\n",
    "\n",
    "    return df_out"
   ]
  },
  {
   "cell_type": "code",
   "execution_count": 3,
   "metadata": {
    "collapsed": false
   },
   "outputs": [
    {
     "data": {
      "text/plain": [
       "['/home/devrazdev/sample_input/garmin/23096962014_data.csv',\n",
       " '/home/devrazdev/sample_input/garmin/23096988778_data.csv',\n",
       " '/home/devrazdev/sample_input/garmin/23109529008_data.csv',\n",
       " '/home/devrazdev/sample_input/garmin/23096983288_data.csv',\n",
       " '/home/devrazdev/sample_input/garmin/23109530638_data.csv',\n",
       " '/home/devrazdev/sample_input/garmin/23099673720_data.csv',\n",
       " '/home/devrazdev/sample_input/garmin/23099672116_data.csv',\n",
       " '/home/devrazdev/sample_input/garmin/23100089296_data.csv',\n",
       " '/home/devrazdev/sample_input/garmin/23082871865_data.csv',\n",
       " '/home/devrazdev/sample_input/garmin/23096958794_data.csv',\n",
       " '/home/devrazdev/sample_input/garmin/23096946129_data.csv',\n",
       " '/home/devrazdev/sample_input/garmin/23096955339_data.csv',\n",
       " '/home/devrazdev/sample_input/garmin/23100090964_data.csv',\n",
       " '/home/devrazdev/sample_input/garmin/23096953166_data.csv',\n",
       " '/home/devrazdev/sample_input/garmin/23096993994_data.csv',\n",
       " '/home/devrazdev/sample_input/garmin/23111750966_data.csv',\n",
       " '/home/devrazdev/sample_input/garmin/23113481971_data.csv',\n",
       " '/home/devrazdev/sample_input/garmin/23096980855_data.csv',\n",
       " '/home/devrazdev/sample_input/garmin/23096978272_data.csv',\n",
       " '/home/devrazdev/sample_input/garmin/23111749740_data.csv',\n",
       " '/home/devrazdev/sample_input/garmin/23096991423_data.csv',\n",
       " '/home/devrazdev/sample_input/garmin/23113480615_data.csv',\n",
       " '/home/devrazdev/sample_input/garmin/23096971353_data.csv',\n",
       " '/home/devrazdev/sample_input/garmin/23096965216_data.csv',\n",
       " '/home/devrazdev/sample_input/garmin/23096975985_data.csv',\n",
       " '/home/devrazdev/sample_input/garmin/23082875089_data.csv',\n",
       " '/home/devrazdev/sample_input/garmin/23096985965_data.csv',\n",
       " '/home/devrazdev/sample_input/garmin/23096967948_data.csv']"
      ]
     },
     "execution_count": 3,
     "metadata": {},
     "output_type": "execute_result"
    }
   ],
   "source": [
    "inputFolder = os.path.expanduser('~') + \"/sample_input/garmin\"\n",
    "\n",
    "# to work with all files in the input folder\n",
    "inputFiles = [join(inputFolder, f) for f in listdir(inputFolder) if isfile(join(inputFolder, f))]\n",
    "inputFiles"
   ]
  },
  {
   "cell_type": "code",
   "execution_count": 7,
   "metadata": {
    "collapsed": false
   },
   "outputs": [
    {
     "name": "stderr",
     "output_type": "stream",
     "text": [
      "/home/devrazdev/.virtualenvs/mysite-virtualenv/lib/python3.6/site-packages/IPython/kernel/__main__.py:14: UserWarning: Boolean Series key will be reindexed to match DataFrame index.\n"
     ]
    }
   ],
   "source": [
    "df_out = pd.DataFrame()\n",
    "\n",
    "for i in range(0, len(inputFiles)):\n",
    "    #read file\n",
    "    df_in = pd.read_csv(inputFiles[i], delimiter=\",\", encoding = 'utf-8')\n",
    "    try:\n",
    "        df_tmp = process_data_csv(df_in)\n",
    "        df_out = pd.concat([df_out, df_tmp])\n",
    "    except:\n",
    "        pass\n",
    "\n",
    "#reshape the output\n",
    "df_out = add_minutes(df_out.sort_values(by=['timestamp']).reset_index(drop=True))\n",
    "df_out = df_out[['time', 'minutes', 'heart_rate[bpm]']][df_out[\"minutes\"] > 0][df_out[\"heart_rate[bpm]\"] > 0].drop_duplicates().reset_index(drop=True)\n",
    "\n",
    "# save the report\n",
    "#sheetName = convert_time(df_tmp.at[0,\"timestamp\"]).strftime(\"%d %b %Y\")\n",
    "#reportPath = write_report(df_out, sheetName)"
   ]
  },
  {
   "cell_type": "code",
   "execution_count": 8,
   "metadata": {
    "collapsed": false
   },
   "outputs": [
    {
     "ename": "NameError",
     "evalue": "name 'df_f' is not defined",
     "output_type": "error",
     "traceback": [
      "\u001b[0;31m---------------------------------------------------------------------------\u001b[0m",
      "\u001b[0;31mNameError\u001b[0m                                 Traceback (most recent call last)",
      "\u001b[0;32m<ipython-input-8-fd9b5a38419d>\u001b[0m in \u001b[0;36m<module>\u001b[0;34m()\u001b[0m\n\u001b[0;32m----> 1\u001b[0;31m \u001b[0mplt\u001b[0m\u001b[0;34m.\u001b[0m\u001b[0mplot\u001b[0m\u001b[0;34m(\u001b[0m\u001b[0mlist\u001b[0m\u001b[0;34m(\u001b[0m\u001b[0mdf_f\u001b[0m\u001b[0;34m[\u001b[0m\u001b[0;34m'minutes'\u001b[0m\u001b[0;34m]\u001b[0m\u001b[0;34m)\u001b[0m\u001b[0;34m,\u001b[0m \u001b[0mlist\u001b[0m\u001b[0;34m(\u001b[0m\u001b[0mdf_f\u001b[0m\u001b[0;34m[\u001b[0m\u001b[0;34m'heart_rate[bpm]'\u001b[0m\u001b[0;34m]\u001b[0m\u001b[0;34m)\u001b[0m\u001b[0;34m,\u001b[0m \u001b[0;34m'bo'\u001b[0m\u001b[0;34m,\u001b[0m \u001b[0mmarkersize\u001b[0m\u001b[0;34m=\u001b[0m\u001b[0;36m3\u001b[0m\u001b[0;34m)\u001b[0m\u001b[0;34m\u001b[0m\u001b[0m\n\u001b[0m\u001b[1;32m      2\u001b[0m \u001b[0mplt\u001b[0m\u001b[0;34m.\u001b[0m\u001b[0mgrid\u001b[0m\u001b[0;34m(\u001b[0m\u001b[0;32mTrue\u001b[0m\u001b[0;34m)\u001b[0m\u001b[0;34m\u001b[0m\u001b[0m\n\u001b[1;32m      3\u001b[0m \u001b[0mplt\u001b[0m\u001b[0;34m.\u001b[0m\u001b[0maxis\u001b[0m\u001b[0;34m(\u001b[0m\u001b[0;34m[\u001b[0m\u001b[0;36m0\u001b[0m\u001b[0;34m,\u001b[0m \u001b[0;36m1440\u001b[0m\u001b[0;34m,\u001b[0m \u001b[0;36m0\u001b[0m\u001b[0;34m,\u001b[0m \u001b[0mmax\u001b[0m\u001b[0;34m(\u001b[0m\u001b[0mlist\u001b[0m\u001b[0;34m(\u001b[0m\u001b[0mdf_f\u001b[0m\u001b[0;34m[\u001b[0m\u001b[0;34m'heart_rate[bpm]'\u001b[0m\u001b[0;34m]\u001b[0m\u001b[0;34m)\u001b[0m\u001b[0;34m)\u001b[0m \u001b[0;34m*\u001b[0m \u001b[0;36m1.1\u001b[0m\u001b[0;34m]\u001b[0m\u001b[0;34m)\u001b[0m\u001b[0;34m\u001b[0m\u001b[0m\n\u001b[1;32m      4\u001b[0m \u001b[0mplt\u001b[0m\u001b[0;34m.\u001b[0m\u001b[0mshow\u001b[0m\u001b[0;34m(\u001b[0m\u001b[0;34m)\u001b[0m\u001b[0;34m\u001b[0m\u001b[0m\n",
      "\u001b[0;31mNameError\u001b[0m: name 'df_f' is not defined"
     ]
    }
   ],
   "source": [
    "plt.plot(list(df_out['minutes']), list(df_out['heart_rate[bpm]']), 'bo', markersize=3)\n",
    "plt.grid(True)\n",
    "plt.axis([0, 1440, 0, max(list(df_f['heart_rate[bpm]'])) * 1.1])\n",
    "plt.show()"
   ]
  },
  {
   "cell_type": "code",
   "execution_count": null,
   "metadata": {
    "collapsed": true
   },
   "outputs": [],
   "source": []
  }
 ],
 "metadata": {
  "kernelspec": {
   "display_name": "Environment (mysite-virtualenv)",
   "language": "",
   "name": "mysite-virtualenv"
  },
  "language_info": {
   "codemirror_mode": {
    "name": "ipython",
    "version": 3
   },
   "file_extension": ".py",
   "mimetype": "text/x-python",
   "name": "python",
   "nbconvert_exporter": "python",
   "pygments_lexer": "ipython3",
   "version": "3.6.0"
  }
 },
 "nbformat": 4,
 "nbformat_minor": 0
}
